{
  "nbformat": 4,
  "nbformat_minor": 0,
  "metadata": {
    "colab": {
      "name": "Montecarlo_Numerico2021-1.ipynb",
      "provenance": [],
      "toc_visible": true,
      "authorship_tag": "ABX9TyNQ5R0sYRp4eRq+JEmiG1CG",
      "include_colab_link": true
    },
    "kernelspec": {
      "name": "python3",
      "display_name": "Python 3"
    }
  },
  "cells": [
    {
      "cell_type": "markdown",
      "metadata": {
        "id": "view-in-github",
        "colab_type": "text"
      },
      "source": [
        "<a href=\"https://colab.research.google.com/github/noeam/Simulacion_Montecarlo/blob/develop/Montecarlo_Numerico2021_1.ipynb\" target=\"_parent\"><img src=\"https://colab.research.google.com/assets/colab-badge.svg\" alt=\"Open In Colab\"/></a>"
      ]
    },
    {
      "cell_type": "markdown",
      "metadata": {
        "id": "CBIg4DzS184A"
      },
      "source": [
        "<font color=\"Teal\" face=\"Comic Sans MS,arial\">\r\n",
        "  <h3 align=\"center\">Proyecto Final</h3>\r\n",
        "  <h1 align=\"center\"><b>Simulación de Montecarlo</b></h1>\r\n",
        "</font>\r\n",
        "<font color=\"Teal\" face=\"Comic Sans MS,arial\">\r\n",
        "  <h3 align=\"center\">Alumno: Noe E. Amador González</h3>\r\n",
        "  <h3 align=\"center\">No. cuenta: 419004815</h3>\r\n",
        "</font>\r\n",
        "\r\n",
        "<font color=\"Black\" face=\"Comic Sans MS,arial\">\r\n",
        "  <h5 align=\"center\"><i>Profesor: M.en.C. Miguel Ángel Pérez León.</i></h5>\r\n",
        "    <h5 align=\"center\"><i>Ayudante: Jesús Iván Coss Calderón.</i></h5>\r\n",
        "  <h5 align=\"center\"><i>Materia: Análisis Numérico 2021-1</i></h5>\r\n",
        "</font>\r\n",
        "\r\n",
        "\r\n",
        "\r\n",
        "\r\n"
      ]
    },
    {
      "cell_type": "markdown",
      "metadata": {
        "id": "KuVx1twEGkla"
      },
      "source": [
        "# Introducción\r\n",
        "\r\n",
        "## What is Monte Carlo Simulation?\r\n",
        "\r\n",
        "Monte Carlo Simulation, also known as the Monte Carlo Method or a multiple probability simulation, is a mathematical technique, which is used to estimate the possible outcomes of an uncertain event. The Monte Carlo Method was invented by John von Neumann and Stanislaw Ulam during World War II to improve decision making under uncertain conditions. It was named after a well-known casino town, called Monaco, since the element of chance is core to the modeling approach, similar to a game of roulette.\r\n",
        "\r\n",
        "Since its introduction, Monte Carlo Simulations have assessed the impact of risk in many real-life scenarios, such as in artificial intelligence, stock prices, sales forecasting, project management, and pricing. They also provide a number of advantages over predictive models with fixed inputs, such as the ability to conduct sensitivity analysis or calculate the correlation of inputs. Sensitivity analysis allows decision-makers to see the impact of individual inputs on a given outcome and correlation allows them to understand relationships between any input variables.\r\n",
        "\r\n",
        "## How does Monte Carlo Simulation work?\r\n",
        "\r\n",
        "Unlike a normal forecasting model, Monte Carlo Simulation predicts a set of outcomes based on an estimated range of values versus a set of fixed input values. In other words, a Monte Carlo Simulation builds a model of possible results by leveraging a probability distribution, such as a uniform or normal distribution, for any variable that has inherent uncertainty. It, then, recalculates the results over and over, each time using a different set of random numbers between the minimum and maximum values. In a typical Monte Carlo experiment, this exercise can be repeated thousands of times to produce a large number of likely outcomes.\r\n",
        "\r\n",
        "Monte Carlo Simulations are also utilized for long-term predictions due to their accuracy. As the number of inputs increase, the number of forecasts also grows, allowing you to project outcomes farther out in time with more accuracy. When a Monte Carlo Simulation is complete, it yields a range of possible outcomes with the probability of each result occurring.\r\n",
        "\r\n",
        "One simple example of a Monte Carlo Simulation is to consider calculating the probability of rolling two standard dice. There are 36 combinations of dice rolls. Based on this, you can manually compute the probability of a particular outcome. Using a Monte Carlo Simulation, you can simulate rolling the dice 10,000 times (or more) to achieve more accurate predictions.\r\n",
        "\r\n",
        "## How to use Monte Carlo methods\r\n",
        "\r\n",
        "Regardless of what tool you use, Monte Carlo techniques involves three basic steps:\r\n",
        "\r\n",
        "1. Set up the predictive model, identifying both the dependent variable to be predicted and the independent variables (also known as the input, risk or predictor variables) that will drive the prediction.\r\n",
        "2. Specify probability distributions of the independent variables. Use historical data and/or the analyst’s subjective judgment to define a range of likely values and assign probability weights for each.\r\n",
        "3. Run simulations repeatedly, generating random values of the independent variables. Do this until enough results are gathered to make up a representative sample of the near infinite number of possible combinations.\r\n",
        "\r\n",
        "You can run as many Monte Carlo Simulations as you wish by modifying the underlying parameters you use to simulate the data. However, you’ll also want to compute the range of variation within a sample by calculating the variance and standard deviation, which are commonly used measures of spread. Variance of given variable is the expected value of the squared difference between the variable and its expected value. Standard deviation is the square root of variance. Typically, smaller variances are considered better."
      ]
    },
    {
      "cell_type": "markdown",
      "metadata": {
        "id": "Bf8A4W8m58gt"
      },
      "source": [
        "# Datos importantes\r\n",
        "\r\n",
        "La población actual de México es de 119,530,753 habitantes aproximadamente.\r\n",
        "\r\n",
        "Según datos de Our World in Data se tiene que en México se vacunan a un promedio de 30,000 personas diariamente desde el 24 de Diciembre de 2020 hasta hoy (24 de Enero de 2021) dado que ha dia de hoy se han vacunado a 596,296 personas aprox. Esto quiere decir que podemos tomarnos una variable aleatoria $X_i \\sim U[25000, 40000]$ donde estoy siendo optimista de que se puede vacunar hasta 40,000 personas en un día. \r\n",
        "\r\n",
        "Con esto en mente podemos utilizar el Teorema del Limite Central y afirmar que:\r\n",
        "\r\n",
        "$$\r\n",
        "Z_n = \\frac{\\sum_{i=1}^n X_i - n*\\mu}{\\sigma*\\sqrt{n}}\\sim N(0,1)\r\n",
        "$$\r\n",
        "\r\n",
        "Haciendo las cuentas tenemos que para llegar al 9 de Agosto de 2021 falta 197 días\r\n",
        "\r\n",
        "Entonces"
      ]
    },
    {
      "cell_type": "code",
      "metadata": {
        "id": "HL2uTfoD8lah",
        "outputId": "bb9ca174-ec3b-4af1-f811-eff1483ee337",
        "colab": {
          "base_uri": "https://localhost:8080/"
        }
      },
      "source": [
        "import math\r\n",
        "n = 3600\r\n",
        "mu = (25000+40000)/2\r\n",
        "var= ((40000-25000)**2)/12\r\n",
        "p = (119530753-n*mu)/var*math.sqrt(n)\r\n",
        "print(p)\r\n",
        "print(mu,var)\r\n"
      ],
      "execution_count": 25,
      "outputs": [
        {
          "output_type": "stream",
          "text": [
            "8.0984096\n",
            "32500.0 18750000.0\n"
          ],
          "name": "stdout"
        }
      ]
    },
    {
      "cell_type": "markdown",
      "metadata": {
        "id": "4_iIhK61JF6k"
      },
      "source": [
        "# Desarrollo"
      ]
    },
    {
      "cell_type": "code",
      "metadata": {
        "colab": {
          "base_uri": "https://localhost:8080/"
        },
        "id": "DaICQlgT16Nx",
        "outputId": "761126fa-1acd-443e-d718-c2db80d6b331"
      },
      "source": [
        "import pandas as pd\r\n",
        "url = 'https://raw.githubusercontent.com/owid/covid-19-data/master/public/data/vaccinations/country_data/Mexico.csv'\r\n",
        "df = pd.read_csv(url)\r\n",
        "print(df.head(5))"
      ],
      "execution_count": 2,
      "outputs": [
        {
          "output_type": "stream",
          "text": [
            "  location        date  ... people_vaccinated people_fully_vaccinated\n",
            "0   Mexico  2020-12-24  ...              2924                       0\n",
            "1   Mexico  2020-12-27  ...              6824                       0\n",
            "2   Mexico  2020-12-28  ...              9579                       0\n",
            "3   Mexico  2020-12-29  ...             18529                       0\n",
            "4   Mexico  2020-12-30  ...             24998                       0\n",
            "\n",
            "[5 rows x 7 columns]\n"
          ],
          "name": "stdout"
        }
      ]
    },
    {
      "cell_type": "markdown",
      "metadata": {
        "id": "1bIMraZ118Fe"
      },
      "source": [
        "#Conclusiones\r\n"
      ]
    },
    {
      "cell_type": "markdown",
      "metadata": {
        "id": "U8siulf8JMkS"
      },
      "source": [
        "# Referencias\r\n",
        "\r\n",
        "\r\n",
        "1.   [IBM](https://www.ibm.com/cloud/learn/monte-carlo-simulation)\r\n",
        "2.   Elemento de lista\r\n",
        "\r\n",
        "\r\n",
        "\r\n"
      ]
    }
  ]
}
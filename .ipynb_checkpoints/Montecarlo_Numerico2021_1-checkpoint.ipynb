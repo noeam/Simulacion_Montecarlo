{
 "cells": [
  {
   "cell_type": "markdown",
   "metadata": {
    "colab_type": "text",
    "id": "view-in-github"
   },
   "source": [
    "<a href=\"https://colab.research.google.com/github/noeam/Simulacion_Montecarlo/blob/develop/Montecarlo_Numerico2021_1.ipynb\" target=\"_parent\"><img src=\"https://colab.research.google.com/assets/colab-badge.svg\" alt=\"Open In Colab\"/></a>"
   ]
  },
  {
   "cell_type": "markdown",
   "metadata": {
    "id": "CBIg4DzS184A"
   },
   "source": [
    "<font color=\"Teal\" face=\"Comic Sans MS,arial\">\n",
    "  <h3 align=\"center\">Proyecto Final</h3>\n",
    "  <h1 align=\"center\"><b>Simulación de Montecarlo</b></h1>\n",
    "</font>\n",
    "<font color=\"Teal\" face=\"Comic Sans MS,arial\">\n",
    "  <h3 align=\"center\">Alumno: Noe E. Amador González</h3>\n",
    "  <h3 align=\"center\">No. cuenta: 419004815</h3>\n",
    "</font>\n",
    "\n",
    "<font color=\"Black\" face=\"Comic Sans MS,arial\">\n",
    "  <h5 align=\"center\"><i>Profesor: M.en.C. Miguel Ángel Pérez León.</i></h5>\n",
    "    <h5 align=\"center\"><i>Ayudante: Jesús Iván Coss Calderón.</i></h5>\n",
    "  <h5 align=\"center\"><i>Materia: Análisis Numérico 2021-1</i></h5>\n",
    "</font>"
   ]
  },
  {
   "cell_type": "markdown",
   "metadata": {
    "id": "Y30nI63bei3a"
   },
   "source": [
    "**Resumen**\n",
    "\n",
    "En este colab se mostrará una aplicación del Método de Montecarlo para estimar probabilidades. \n",
    "\n",
    "La idea principal de este trabajo es poder explicar cómo funciona este método en la teoría de la probabilidad. Se explicará brevemente qué hay detrás de la implementación (como la generación de números aleatorios) y se desarrollará el código necesario sin utilizar librerias que hagan todo el trabajo con el objetivo de entender desde la raíz y de manera intuitiva la aplicación de este método. Un segundo objetivo es que cualquier persona de cualquier área pueda entender este trabajo. \n",
    "\n",
    "Finalmente se mostrará una aplicación del método y se comprobará que todo lo planteado en realidad funciona."
   ]
  },
  {
   "cell_type": "markdown",
   "metadata": {
    "id": "KuVx1twEGkla"
   },
   "source": [
    "# Introducción\n",
    "\n",
    "El método de Montecarlo es una herramienta muy utilizada en la prática para campos relacionados con Simulación Estocástica, Probabilidad y Estadística. Su enorme capacidad esta fundamentada justamente en la Teoria de la Probabilidad, pero las características computacionales que posee también son una parte importante por la que este método se distingue.\n",
    "\n",
    "Conocer el Método de Montecarlo nos permitirá aumentar nuestras herramienta de modelación matemática y en el mejor de los casos nos dará soluciones a problemas complejos.\n",
    "\n",
    "La intuición detrás de este método es que podemos imaginar que queremos modelar un fenómeno físico, social o de cualquier índole. El problema es que este fenómeno tiene muchas interpretaciones y es difícil determinar cuál de todas estas interpretaciones es la más \"general\". Bueno, pues el Método de Montecarlo funciona para dar la interpretación (aproximación) tan certera como queramos a dicho fenómeno. Su magia radica en la cantidad de tiempo que le queramos dar para que se analicen la mayor cantidad de escenarios que puedan ocurrir.\n",
    "\n",
    "En otras palabras, el método de Montecarlo se puede usar cuando el modelo detrás de este fenómeno es desconocido o difícil de computar/calcular o también se puede usar cuando no tenemos datos con los cuales trabajar y queremos \"simular\" como es que este fenómeno se \"comportaría\".\n",
    "\n",
    "Algunas área en los que este método se aplica son: Física de Partículas, Física-Químiza, Finanzas, Graficación por Computadora, entre otras.\n",
    "\n",
    "Es bueno recalcar algunos puntos vistos durante el curso de Análisis Numérico, y por los cuales comenzaremos:\n",
    "\n",
    "***MonteCarlo:*** *Son un conjunto de métodos y técnicas para analizar fenómenos por medio de algoritmos computacionales que dependen fundamentalmente de números aleatorios.*\n",
    "\n",
    "La generación de números aleatorios es importante, ya que por lo general este conjunto de números aleatorios definirá una muestra de los casos hipóteticos que podrían ocurrir y que esperamos puedan representar de manera correcta a nuestro fenómeno. \n",
    "\n",
    "El término aleatorio es difícil de definir, por lo que lo dejaré a su imaginación, sin embargo destacaremos que la aleatoriedad es una caracteristica importante en las muestras representativas.\n",
    "\n",
    "Con todo esto en mente podemos comenzar a conocer cómo funciona el método de Montecarlo."
   ]
  },
  {
   "cell_type": "markdown",
   "metadata": {
    "id": "4_iIhK61JF6k"
   },
   "source": [
    "# Desarrollo"
   ]
  },
  {
   "cell_type": "markdown",
   "metadata": {
    "id": "zNElUSpY5LaL"
   },
   "source": [
    "En esta sección se recuerdan los temas y herramientas matemáticas que se necesitarán para resolver nuestro problema."
   ]
  },
  {
   "cell_type": "markdown",
   "metadata": {
    "id": "2FwRkJo5UhcA"
   },
   "source": [
    "## Generador de Números Aleatorios\n",
    "\n"
   ]
  },
  {
   "cell_type": "markdown",
   "metadata": {
    "id": "E-IcKlnZpJEg"
   },
   "source": [
    "Como lo mencionamos, la generación de números aleatorios es esencial para obtener una buena muestra y que de esta manera nuestro método funcione de la mejor manera. Si logramos generar una buena muestra entonces es casi seguro que nuestros resultados estén muy cercanos a lo que sucedería en la realidad de nuestro fenómeno.\n",
    "\n",
    "La mayoría de los sistemas de cómputo tienen **generadores de números aleatorios**, que son procedimientos que producen un número aleatorio simple o un arreglo de números aleatorios con\n",
    "cada llamada.\n",
    "\n",
    "Los números aleatorios producidos por código de computadora no pueden ser verdaderamente aleatorios, porque la forma en que se producen es totalmente determinista, es decir, ningún\n",
    "elemento aleatorio está presente.\n",
    "\n",
    "Tomemos entonces uno de los algoritmos para generar esta muestra de numeros pseudoaleatorios.\n",
    "\n",
    "<img src=\"https://github.com/jugernaut/Numerico2021/blob/master/Figuras/MonteCarlo/algMonte.PNG?raw=1\" width=\"700\">\n",
    "\n",
    "En este caso obtendremos una muestra uniforme, es decir, cada valor que obtengamos tiene la misma probabilidad de salir que cualquiera de los otros números."
   ]
  },
  {
   "cell_type": "code",
   "execution_count": 15,
   "metadata": {
    "colab": {
     "base_uri": "https://localhost:8080/",
     "height": 303
    },
    "id": "ItIJXLC0pDDB",
    "outputId": "a590ffc1-ead6-432a-db43-d4e2d195bbba"
   },
   "outputs": [
    {
     "data": {
      "text/plain": [
       "<function matplotlib.pyplot.show>"
      ]
     },
     "execution_count": 15,
     "metadata": {
      "tags": []
     },
     "output_type": "execute_result"
    },
    {
     "data": {
      "image/png": "[encoded data removed]",
      "text/plain": [
       "<Figure size 432x288 with 1 Axes>"
      ]
     },
     "metadata": {
      "needs_background": "light",
      "tags": []
     },
     "output_type": "display_data"
    }
   ],
   "source": [
    "import matplotlib.pyplot as plt\n",
    "\n",
    "'''\n",
    "Genera numeros pseudoaleatorios \n",
    "distribuidos de manera uniforme\n",
    "en el intervalo (0,1)\n",
    "'''\n",
    "def uniforme_estandar(mult=12345, mod=(2**31)-1, seed = 123456789, N=1):\n",
    "    L = []\n",
    "    x = (seed*mult+1)%mod #valor entre 0 y 2^(31)-1\n",
    "    L.append(x/mod) #Valor entre 0 y 1\n",
    "    #print(L[0], x, (2**31)-1)\n",
    "    for i in range(1, N):\n",
    "        x = (x*mult+1)%mod #otro valor 0 y 2^(31)-1\n",
    "        L.append(x/mod) #agrega otro valor entre 0 y 1\n",
    "    return L\n",
    "\n",
    "'''\n",
    "Genera numeros pseudoaleatorios \n",
    "distribuidos de manera uniforme\n",
    "en el intervalo (a,b)\n",
    "'''\n",
    "def uniforme(a=0, b=1, N=10):\n",
    "    L = uniforme_estandar(N=N)\n",
    "    for i in range(0,len(L)):\n",
    "        L[i] = a+(b-a)*L[i]\n",
    "    return L\n",
    "\n",
    "valores = uniforme(a=-5, b=5, N=100000) #Aqui se puede jugar con el tamaño y el intervalo(a,b)\n",
    "plt.hist(valores, color=\"r\")\n",
    "plt.title(\"Distribución Uniforme(-5,5)\")\n",
    "plt.xticks(fontsize=15)\n",
    "plt.xlim(-6,6)\n",
    "plt.show"
   ]
  },
  {
   "cell_type": "markdown",
   "metadata": {
    "id": "KBJTMCCFS0kJ"
   },
   "source": [
    "Observemos que, efectivamente el algoritmo anterior nos ha creado una muestra uniforme de númeoros aleatorios. Esta generación de números pseudoaleatorios mejora entre más grande sea la muestra. Justificado con lo visto en clase:\n",
    "\n",
    "*A diferencia de los métodos numéricos que se basan en evaluaciones de* $N-puntos$ *en un espacio* $M-dimensional$ *para producir una solución aproximada, los métodos de Monte Carlo tiene un error absoluto con respecto a la aproximación, que decrece conforme N aumenta. Para ser mas exactos decrece a razón de *\n",
    "\n",
    "$$\\frac{1}{\\sqrt{N}}$$\n",
    "\n",
    "*En **teoría** todo método de Monte Carlo converge a la solución exacta, en la **práctica** se consigue una precisión modesta.*"
   ]
  },
  {
   "cell_type": "markdown",
   "metadata": {
    "id": "Mkh8JqJ5WI7i"
   },
   "source": [
    "Como observación: las muestras de valores aleatorios se pueden generar con diferentes distribuciones y no únicamente uniformes, sin embargo, el Método de Montecarlo requiere, en su mayoría, de muestras donde los valores sean equiprobables, es decir, donde todos los valores puedan salir por más extraños que parezcan, eso diría que las muestras llegan a ser más representativas."
   ]
  },
  {
   "cell_type": "markdown",
   "metadata": {
    "id": "QeUjhQ2AUpKK"
   },
   "source": [
    "## Integración con el Método de Montecarlo"
   ]
  },
  {
   "cell_type": "markdown",
   "metadata": {
    "id": "mPgxE76TUGY6"
   },
   "source": [
    "Ya que hemos visto que Montecarlo necesita de una muestra representaiva de números aleatorios y que el tamaño de esta muestra es fundamental para obtener mejores aproximaciones, veamos como el tamaño en realidad ayuda en la práctica."
   ]
  },
  {
   "cell_type": "markdown",
   "metadata": {
    "id": "fA_bBB9VUa4X"
   },
   "source": [
    "Como hemos visto en clase, para aproximar una integral definida obtenemos la siguiente definición:\n",
    "\n",
    "*Si seleccionamos los primeros $n$ elementos* $x_{1},x_{2},\\ldots,x_{n}$ *de una sucesión aleatoria en el intervalo $(a,b)$, entonces,*\n",
    "\n",
    "$$\\frac{1}{b-a}\\int_{a}^{b}f\\left(x\\right)dx\\approx\\frac{1}{n}\\sum_{i=1}^{n}f\\left(x_{i}\\right)$$\n",
    "\n",
    "Pero...¿qué quiere decir esto?\n",
    "Bueno pues la idea es que generalmente cuando queremos calcular una integral lo que estamos buscando es un área/superficie cuál sea el caso. Y Montecarlo nos dice que esa área es lo mismo que partir el intervalo en $n$ partes y a cada uno de esos intervalitos asignarles una altura ($f(x_i)$) de tal manera que la suma del area de esos rectángulos aproxima el área. Y es importante notar que justamente cuando $n$ es más grande, estos rectangulos son más finos y tenemos más alturas, por lo que la aproximación va siendo más exacta. La diferencia con una suma de Riemman es que en este caso los valores de $x_i$ son valores aleatorios uniformes dentro del intervalo."
   ]
  },
  {
   "cell_type": "markdown",
   "metadata": {
    "id": "DKnMkZxkU7Vg"
   },
   "source": [
    "## Ley de los Grandes Números y Teorema Central del Límite"
   ]
  },
  {
   "cell_type": "markdown",
   "metadata": {
    "id": "HSpZsU-Sau0n"
   },
   "source": [
    "Finalmente será importante recordar algunos resultados muy importantes que nos ayudarán a la solución de nuestro problema y que en la vida real tienen un impacto significativo por la cantidad de uso que se le da."
   ]
  },
  {
   "cell_type": "markdown",
   "metadata": {
    "id": "RNosNpbibI_f"
   },
   "source": [
    "**La Ley de los Grandes Números** fue demostrada por Jacobo Bernoulli hace poco más de 300 años y es uno de los resultados que ha impactado mucho a la comunidad matemática.\n",
    "\n",
    "Una manera de enunciar esta Ley es la siguiente:\n",
    "\n",
    "Sea $X_1,X_2,...$ una sucesión de variables aleatorias identicamente distribuidas en independientes con media finita $\\mu$. Entonces\n",
    "\n",
    "$$\n",
    "\\frac{1}{n}\\sum_{i=1}^n X_i \\to \\mu \\quad\\quad cuando \\quad\\quad n \\to \\infty\n",
    "$$\n",
    "\n",
    "en donde la convergencia se cumple en el sentido casi seguro (ley fuerte) y también en probabilidad (ley débil)\n"
   ]
  },
  {
   "cell_type": "markdown",
   "metadata": {
    "id": "B7beoyDsdJKS"
   },
   "source": [
    "Este enunciado tiene un sentido muy intuitivo pues es una de las herramientas más utilizadas día a día, y en palabras simples es que si tienes una muestra muy grande de valores, entonces es muy probable que el promedio de esos valores sea el promedio de todos los valores que existen.\n",
    "\n",
    "O con ejemplo: Si en una ciudad viven 100 personas y tu conoces la estatura de 98 personas, entonces es casi seguro que el promedio de las alturas de esas 98 personas sea el mismo que el promedio de las 100 personas.\n",
    "\n",
    "La intuición es algo así solo que no podemos pensar específicamente en números \"normales\", sino en cantidades infinitas.\n"
   ]
  },
  {
   "cell_type": "markdown",
   "metadata": {
    "id": "80WBN-_DeXYQ"
   },
   "source": [
    "Finalmente, recordemos a uno de los resultados más importantes de la Teoría de la Probabilidad (si no es que el más importante) y es el **TEOREMA CENTRAL DEL LÍMITE**\n",
    "\n",
    "Este teorema se puede enunciar de la siguiente manera:\n",
    "\n",
    "Sean $X_1, X_2, ...$ una sucesión de variables aleatorias, independientes e idénticamente distribuidas de una distribución con media $μ$ y varianza $\\sigma^2 \\neq 0$. Entonces la variable aleatoria\n",
    "\n",
    "$$\n",
    "Z_n = \\frac{\\sum_{i=1}^{n} X_i - n*\\mu}{\\sigma*\\sqrt{n}}\n",
    "$$\n",
    "\n",
    "converge en distribución a la variable aleatoria normal estándar cuando $n \\to \\infty$. Es decir\n",
    "$$\n",
    "P(Z_n < x) \\to \\int_{-\\infty}^{x} \\frac{1}{\\sqrt{2\\pi}}e^{{-\\frac{1}{2}u^2}}du\n",
    "$$\n",
    "\n"
   ]
  },
  {
   "cell_type": "markdown",
   "metadata": {
    "id": "Gu-5oxAcg4nk"
   },
   "source": [
    "La grandeza y brillo de este Teorema es que no importa cual sea la distribución de las variables aleatorias, siempre y cuando estas sean i.i.d entonces siempre se podrán aproximar por medio de una variable aleatoria con distribución normal estándar ($N(0,1)$) y eso siempre simplifica mucho las cuentas cuando las distribuciones de las $X_i$ son demasiado complejas, pero más importante aún, existe una relación/conexión entre todas las distribuciones conocidas."
   ]
  },
  {
   "cell_type": "markdown",
   "metadata": {
    "id": "Z-mo-J5Hf6-Z"
   },
   "source": [
    "# Aplicación del Método de Montecarlo\n",
    "Ahora para demostrar que todo lo anterior tiene sentido veamos una aplicación del método de Montecarlo:"
   ]
  },
  {
   "cell_type": "markdown",
   "metadata": {
    "id": "9_jdw-6moxJG"
   },
   "source": [
    "## Presentación del problema\n",
    "\n",
    "Actualmente vivimos en medio de una pandemia, y todos queremos que la pandemia acabe lo antes posible. Una manera de darle fin es vacunándonos. \n",
    "\n",
    "A día de hoy ya se ha comenzado a implementar un plan de vacunación en varios países incluyendo México.\n"
   ]
  },
  {
   "cell_type": "markdown",
   "metadata": {
    "id": "wapNf4uH2OD8"
   },
   "source": [
    "\n",
    "<center>\n",
    "\n",
    "<img src=\"https://raw.githubusercontent.com/noeam/Simulacion_Montecarlo/main/Imagenes/share-people-fully-vaccinated-covid.png?token=GHSAT0AAAAAABV5RK72L3OJWXWC46ESZM4IYVURJ2Q\" width=\"700\">\n",
    "\n",
    "</center>\n",
    "\n",
    "Visualización actualizada: [aquí](https://ourworldindata.org/coronavirus-data-explorer?tab=map&zoomToSelection=true&country=CHN~USA~RUS~MEX~DEU~GBR~FRA~ISR~BHR~ARE~IND~ITA&region=World&vaccinationsMetric=true&interval=total&perCapita=true&smoothing=0&pickerMetric=total_vaccinations_per_hundred&pickerSort=desc)\n",
    "\n"
   ]
  },
  {
   "cell_type": "markdown",
   "metadata": {
    "id": "qO0-koMdMIfG"
   },
   "source": [
    "Dentro del Plan Nacional de Vacunación de México se dice que uno de los objetivos específicos es vacunar (inmunizar) mínimo al 70% de la población en México para lograr la inmunidad de rebaño contra el COVID-19.\n",
    "\n",
    "Según datos del INEGI, la **población de México** es de 126,014,024 personas, por lo que haciendo algunas cuentas secillas\n",
    "\n",
    "$$\n",
    "126014024 * 0.7 \\approx 88209816.8\n",
    "$$\n",
    "Es decir que el 70% de la población equivale a 88,209,817 personas. Por lo que necesitamos que esta cantidad de personas estén vacunadas para poder \"vencer\" al COVID-19\n",
    "\n",
    "> Vencer: Retomar las actividades diarias/comunes de manera \"normal\".\n"
   ]
  },
  {
   "cell_type": "markdown",
   "metadata": {
    "id": "vjT0Voe1UPio"
   },
   "source": [
    "Ahora, veamos algunos otros datos importantes recabados por el proyecto *Our World In Data*.\n",
    "\n",
    "Estos datos los podemos ver en el siguiente DataFrame, el cual contiene las fechas de los **días activos** de vacunación, y la **cantidad de personas vacunadas** (acumuladas por día) en dichas fechas."
   ]
  },
  {
   "cell_type": "code",
   "execution_count": null,
   "metadata": {
    "colab": {
     "base_uri": "https://localhost:8080/"
    },
    "id": "DaICQlgT16Nx",
    "outputId": "e070626b-7c77-4f1c-9d8f-551cd5698f16"
   },
   "outputs": [
    {
     "name": "stdout",
     "output_type": "stream",
     "text": [
      "   location        date  ... people_vaccinated people_fully_vaccinated\n",
      "0    Mexico  2020-12-24  ...            2924.0                     0.0\n",
      "1    Mexico  2020-12-27  ...            6824.0                     0.0\n",
      "2    Mexico  2020-12-28  ...            9579.0                     0.0\n",
      "3    Mexico  2020-12-29  ...           18529.0                     0.0\n",
      "4    Mexico  2020-12-30  ...           24998.0                     0.0\n",
      "5    Mexico  2021-01-04  ...           43960.0                     0.0\n",
      "6    Mexico  2021-01-05  ...           48236.0                     0.0\n",
      "7    Mexico  2021-01-06  ...           53185.0                     0.0\n",
      "8    Mexico  2021-01-07  ...           58402.0                     0.0\n",
      "9    Mexico  2021-01-08  ...           67468.0                     0.0\n",
      "10   Mexico  2021-01-09  ...           74794.0                     0.0\n",
      "11   Mexico  2021-01-10  ...           81300.0                     0.0\n",
      "12   Mexico  2021-01-11  ...           87060.0                     0.0\n",
      "13   Mexico  2021-01-12  ...           92879.0                     0.0\n",
      "14   Mexico  2021-01-13  ...          192567.0                     0.0\n",
      "15   Mexico  2021-01-14  ...          329983.0                     0.0\n",
      "16   Mexico  2021-01-15  ...          415417.0                  1958.0\n",
      "17   Mexico  2021-01-16  ...          461025.0                  2221.0\n",
      "18   Mexico  2021-01-17  ...          468708.0                  3434.0\n",
      "19   Mexico  2021-01-18  ...          485983.0                  6546.0\n",
      "20   Mexico  2021-01-19  ...          488513.0                  9609.0\n",
      "21   Mexico  2021-01-20  ...          489628.0                 11402.0\n",
      "22   Mexico  2021-01-21  ...          534317.0                 18018.0\n",
      "23   Mexico  2021-01-22  ...          594725.0                 20083.0\n",
      "24   Mexico  2021-01-23  ...          596296.0                 22472.0\n",
      "25   Mexico  2021-01-24  ...          604441.0                 25185.0\n",
      "26   Mexico  2021-01-25  ...          616390.0                 28715.0\n",
      "27   Mexico  2021-01-26  ...          621005.0                 31314.0\n",
      "28   Mexico  2021-01-27  ...          624730.0                 31314.0\n",
      "29   Mexico  2021-01-28  ...               0.0                     0.0\n",
      "30   Mexico  2021-01-29  ...          630820.0                 31397.0\n",
      "31   Mexico  2021-01-30  ...          631298.0                 39009.0\n",
      "32   Mexico  2021-01-31  ...               0.0                 43455.0\n",
      "\n",
      "[33 rows x 7 columns]\n"
     ]
    }
   ],
   "source": [
    "import pandas as pd\n",
    "url = 'https://raw.githubusercontent.com/owid/covid-19-data/master/public/data/vaccinations/country_data/Mexico.csv'\n",
    "df = pd.read_csv(url)\n",
    "df = df.fillna(0)\n",
    "#print(df.iloc[ -5:, :])\n",
    "print(df)"
   ]
  },
  {
   "cell_type": "markdown",
   "metadata": {
    "id": "WqRvi7G6XIPu"
   },
   "source": [
    "Es importante observar que la cantidad de personas vacunadas es la cantidad de dosis inyectadas, pero algunas vacunas requieren 2 dosis.\n",
    "\n",
    "SIN EMBARGO, PARA FINES DE ESTE PROYECTO SUPONDREMOS QUE SOLO SE NECESITA UNA DOSIS PARA INMUNIZAR A UNA PERSONA.\n",
    "\n",
    "Con lo que si tomamos los datos necesarios obtenemos que:\n",
    "- Hasta este momento hay **630,820 personas vacunadas**\n",
    "- Se ha vacunado a todas estas personas en **31 días activos de vacunación**.\n",
    "- En promedio, **20,350 personas son vacunadas por día**\n",
    "\n",
    "*(Actualizado al 31 de Enero 2021)*\n"
   ]
  },
  {
   "cell_type": "code",
   "execution_count": null,
   "metadata": {
    "colab": {
     "base_uri": "https://localhost:8080/"
    },
    "id": "Y1QXYFWdJH6d",
    "outputId": "386bc850-41f7-4731-a3a7-777b75e9a0b2"
   },
   "outputs": [
    {
     "name": "stdout",
     "output_type": "stream",
     "text": [
      "Los datos muestran que hay 631298.0 personas vacunadas hasta este momento\n",
      "Hasta hoy se contabilizan 33 días activos de vacunación\n",
      "Actualmente en México se vacunan a un promedio de 19130.242424242424 personas por día\n"
     ]
    }
   ],
   "source": [
    "#Actualización de los datos anteriores\n",
    "\n",
    "i=-1\n",
    "vacunados = df.iloc[i,-2]\n",
    "condicion = bool(vacunados)\n",
    "while not condicion:\n",
    "    vacunados = df.iloc[i-1,-2]\n",
    "    condicion = bool(vacunados)\n",
    "\n",
    "\n",
    "dias_activos = len(df)\n",
    "vacunas_por_dia = vacunados/dias_activos\n",
    "print(f\"Los datos muestran que hay {vacunados} personas vacunadas hasta este momento\")\n",
    "print(f\"Hasta hoy se contabilizan {dias_activos} días activos de vacunación\")\n",
    "print(f\"Actualmente en México se vacunan a un promedio de {vacunas_por_dia} personas por día\")"
   ]
  },
  {
   "cell_type": "markdown",
   "metadata": {
    "id": "qxCculK0Tnnm"
   },
   "source": [
    "Con todo esto en mente podemos comenzar a describir y plantear nuestro problema:\n",
    "\n",
    "Buscamos la probabilidad de que para Enero de 2022 el 70% de la población esté vacunada y podamos \"vencer\" al COVID-19."
   ]
  },
  {
   "cell_type": "markdown",
   "metadata": {
    "id": "GEfUzOuzYvpY"
   },
   "source": [
    "De manera matemática podemos imaginar que cada día es una variable aleatoria $X$, esta variable describe la cantidad de personas vacunadas en ese día.\n",
    "\n",
    "Para llegar a Enero de 2022 todavía falta casi un año. Haciendo cuentas: \n",
    "$$\n",
    "365-31=334\n",
    "$$\n",
    "Faltan 334 días para llegar a 2022,\n",
    "entonces debemos tomar 334 variables aleatorias, donde cada una representa la cantidad de personas vacunadas en cada día.\n",
    "\n",
    "Sean $X_1, X_2,..., X_{334}$ la variables aleatorias, observemos que cada $X_i$ puede tomar muchos diferentes valores. En este caso, **supondremos que en un día se vacuna a mínimo 25,000 personas y máximo 100,000**, por lo que $X_i$ toma valores entre $25,000$ y 100,000$ con la misma probabilidad. De manera matemática:\n",
    "\n",
    "$$\n",
    "X_i \\sim U[25000,100000]\n",
    "$$\n",
    "\n",
    "*Justificación: Este problema se puede hacer tan complejo como queramos pues en realidad la cantidad de personas vacunadas por día depende de muchos factores como la fabricación masiva de vacunas que se reparten por todo el mundo, el presupuesto para comprar las vacunas, la cantidad de vacunas que llegan y las fechas de entrega, la capacidad/cantidad de personal que pueda unirse a brigadas de vacunación, entre muchos otros factores más.* \n",
    "\n",
    "*Es probable que en los proximos meses, cuando lleguen muchas más vacunas, se puedan aplicar hasta medio millón (o más) de dosis diarias, pero eso vuelve el problema más complejo. Desafortunadamente ahorita los datos son escasos y las intuiciones un poco inseguras.*\n",
    "\n",
    "\n"
   ]
  },
  {
   "cell_type": "markdown",
   "metadata": {
    "id": "_7A5awn-b3hv"
   },
   "source": [
    "## Solución al problema"
   ]
  },
  {
   "cell_type": "markdown",
   "metadata": {
    "id": "UZ3GTp-seWfe"
   },
   "source": [
    "Ya que sabemos todo lo anterior comencemos a resolver el problema:\n",
    "\n",
    "Denotemos por $t=88,000,000$ al total de personas que se necesitan vacunar (aproximadamente).\n",
    "\n",
    "Nos gustaria que el total de vacunados $t$ sean más de $88,000,000$ después de los 334 días, entonces buscamos la siguiente probabilidad:\n",
    "\n",
    "$$\n",
    "P(\\sum_{i=1}^{334} X_i > t)=?\n",
    "$$\n",
    "\n",
    "Si aplicamos el Teorema del Límite Central tenemos que\n",
    "$$\n",
    "P(\\frac{\\sum_{i=1}^{334} X_i - 334*\\mu}{\\sigma*\\sqrt{334}} > \\frac{t - 334*\\mu}{\\sigma*\\sqrt{334}})=?\n",
    "\\tag{1}\n",
    "$$\n",
    "\n",
    "Donde podemos afirmar que:\n",
    "\n",
    "$$\n",
    "Z = \\frac{\\sum_{i=1}^{334} X_i - 334*\\mu}{\\sigma*\\sqrt{334}}\\sim N(0,1)\n",
    "$$\n",
    "\n",
    "Y donde $\\mu=E[X_i]$ y $\\sigma = Var[X_i]=E[X_i^2]-E[X_i]^2$\n",
    "\n",
    "Pero como sabemos que $X_i \\sim U(a,b)$ donde $a=25,000$ y $b=100,000$ entonces:\n",
    "\n",
    "$$\n",
    "\\mu = E[X_i]=\\frac{a+b}{2}=\\frac{25,000+100,000}{2}=62,500\n",
    "$$\n",
    "$$\n",
    "\\sigma = Var[X_i] = \\frac{(b-a)^2}{12}= \\frac{(100,000-25,000)^2}{12}=468,750,000\n",
    "$$\n",
    "\n",
    "Y sustituyendo en (1) tenemos que:\n",
    "\n",
    "Sea $p=\\frac{t - 334*\\mu}{\\sigma*\\sqrt{n}}$ entonces\n",
    "$$\n",
    "p = \\frac{88,000,000 - 334*62,500}{2,812,500,000*\\sqrt{334}}=2.61707549757358\n",
    "$$"
   ]
  },
  {
   "cell_type": "code",
   "execution_count": null,
   "metadata": {
    "colab": {
     "base_uri": "https://localhost:8080/"
    },
    "id": "C8zLEDQMR3wO",
    "outputId": "2a9cd556-8b5e-4644-8633-506908160851"
   },
   "outputs": [
    {
     "name": "stdout",
     "output_type": "stream",
     "text": [
      "Tenemos que p es 2.61707549757358\n"
     ]
    }
   ],
   "source": [
    "import math\n",
    "n = 334\n",
    "mu = (25000+100000)/2\n",
    "var= ((100000-25000)**2)/12\n",
    "p = (88000000-n*mu)/var*math.sqrt(n)\n",
    "print(\"Tenemos que p es\", p)"
   ]
  },
  {
   "cell_type": "markdown",
   "metadata": {
    "id": "Bf8A4W8m58gt"
   },
   "source": [
    "\n",
    "\n",
    "Por lo anterior llegamos a que el problema se reduce a calcular la siguiente probabilidad:\n",
    "\n",
    "$$\n",
    "R = P(Z>2.61707549757358) = 1-P(Z < 2.61707549757358)\n",
    "$$\n",
    "\n",
    "Donde $\\frac{1}{\\sqrt{2\\pi}}e^{{-\\frac{1}{2}x^2}}$ es la función de densidad de una variable aleatoria $Z \\sim N(0,1)$, por lo que en terminos matemáticos obtenemos que\n",
    "\n",
    "$$\n",
    "R = 1 - \\int_{-\\infty}^{2.61707549757358} \\frac{1}{\\sqrt{2\\pi}}e^{{-\\frac{1}{2}x^2}}dx\n",
    "$$\n",
    "\n",
    "\n",
    "Esta última integral es muy conocida por su importancia en la Teoria de la Probabilidad pero tambien en el Análisis Matemático pues contiene una complejidad que por si misma es difícil de resolver analíticamente y que por lo general se calcula por medio de tablas y aproximaciones que se han mantenido ha lo largo de los años."
   ]
  },
  {
   "cell_type": "markdown",
   "metadata": {
    "id": "CUIVd6VtnM3w"
   },
   "source": [
    "Es aquí donde entra el **Método de Montecarlo**, pues al presentarse una integral de semajante complejidad el método de Montecarlo es muy útil para encontrar una aproximación, pues como hemos visto antes, podemos aproximar esa integral por medio de sumas.\n",
    "\n",
    "El código queda de la siguiente manera:"
   ]
  },
  {
   "cell_type": "markdown",
   "metadata": {
    "id": "_clfn0TjnrYU"
   },
   "source": [
    "**Solución con los métodos escritos en el Desarrollo**"
   ]
  },
  {
   "cell_type": "code",
   "execution_count": 13,
   "metadata": {
    "colab": {
     "base_uri": "https://localhost:8080/"
    },
    "id": "XVU6b7X-pV7L",
    "outputId": "e4130ad4-f57a-4360-8ba4-6c0486c0a863"
   },
   "outputs": [
    {
     "name": "stdout",
     "output_type": "stream",
     "text": [
      "La probabilidad es  0.0054385867940823784\n"
     ]
    }
   ],
   "source": [
    "#Aproximación sin numpy\n",
    "import math\n",
    "\n",
    "'''Integracion numerica de Monte Carlo\n",
    "f: funcion a integrar\n",
    "N: numero de valores aleatorios\n",
    "a,b,c,d: limites de integracion\n",
    "'''\n",
    "def MonteCarlo(f,N,a,b):\n",
    "    # area a integrar\n",
    "    dim = (b-a)\t\n",
    "    # valores aleatorios para\t\t\t\t\t\t\t\t\n",
    "    a1 = uniforme(N=N)\t\t\t\t\t\t\n",
    "    # acumulador temporal\n",
    "    temp = 0\n",
    "    # ciclo para realizar la suma de MC\t\t\t\t\t\t\t\t\t\t\t\n",
    "    for i in range(N):\n",
    "        # valores recorridos\n",
    "        xr = a1[i]*(b-a)+a\n",
    "        # evaluacion\n",
    "        temp += f(xr)\t\t\t\t\t\t\t\t\n",
    "    # aproximacion mediante MC\n",
    "    return dim*temp/N\n",
    "\n",
    "mu = 0\n",
    "sigma = 1\n",
    "integral = lambda x: (1/math.sqrt(2*math.pi))*(math.e)**((-x**2)/2)\n",
    "\n",
    "#Tomamos 1000 numeros aleatorios y calculamos la integral de -5 a 2.6170\n",
    "# el limite inferior es -5 y no -inf  pues para una densidad normal\n",
    "# la mayor parte del \"area\" se concentra en (-4,4)\n",
    "# utilizar -in nos provoca un \n",
    "print(\"La probabilidad es \", 1-MonteCarlo(integral, 100000, -5, 2.6170)) "
   ]
  },
  {
   "cell_type": "markdown",
   "metadata": {
    "id": "LeGtc7n-38dE"
   },
   "source": [
    "**Solución de la integral con numpy**"
   ]
  },
  {
   "cell_type": "code",
   "execution_count": null,
   "metadata": {
    "colab": {
     "base_uri": "https://localhost:8080/"
    },
    "id": "J1m-JX974BQw",
    "outputId": "20afcd6a-1cb3-4169-958b-46940f90a7fc"
   },
   "outputs": [
    {
     "name": "stdout",
     "output_type": "stream",
     "text": [
      "La probabilidad es:  0.0031625985885488372\n"
     ]
    }
   ],
   "source": [
    "#Aproximacion con numpy\n",
    "import numpy as np\n",
    "import math\n",
    "\n",
    "'''Integracion numerica de Monte Carlo\n",
    "f: funcion a integrar\n",
    "N: numero de valores aleatorios\n",
    "a,b,c,d: limites de integracion\n",
    "'''\n",
    "def MonteCarlo(f,N,a,b):\n",
    "    # area a integrar\n",
    "    dim = (b-a)\t\n",
    "    # valores aleatorios para\t\t\t\t\t\t\t\t\n",
    "    a1 = np.random.uniform(size=N)\t\t\t\t\t\t\n",
    "    # acumulador temporal\n",
    "    temp = 0\n",
    "    # ciclo para realizar la suma de MC\t\t\t\t\t\t\t\t\t\t\t\n",
    "    for i in range(N):\n",
    "        # valores recorridos\n",
    "        xr = a1[i]*(b-a)+a\n",
    "        # evaluacion\n",
    "        temp += f(xr)\t\t\t\t\t\t\t\t\n",
    "    # aproximacion mediante MC\n",
    "    return dim*temp/N\n",
    "\n",
    "mu = 0\n",
    "sigma = 1\n",
    "integral = lambda x: (1/math.sqrt(2*math.pi))*(math.e)**((-x**2)/2)\n",
    "\n",
    "print(\"La probabilidad es: \", 1-MonteCarlo(integral, 100000, -5, 2.6170))"
   ]
  },
  {
   "cell_type": "markdown",
   "metadata": {
    "id": "_R9orEBgn3OO"
   },
   "source": [
    "### Resultados\n",
    "\n",
    "La solución por medio de tablas nos dice que:\n",
    "$$\n",
    "R = 1-P(Z< 2.61707549757358)\n",
    "$$\n",
    "\n",
    "pero buscando $P(Z< 2.61707549757358)$ tenemos\n",
    "\n",
    "<center>\n",
    "\n",
    "<img src=\"https://raw.githubusercontent.com/noeam/Simulacion_Montecarlo/main/Imagenes/tabla.png?token=GHSAT0AAAAAABV5RK73MZ2I35T4OT4ZMGNUYVURWRA\" width=\"400\">\n",
    "\n",
    "</center>\n",
    "\n",
    "entonces\n",
    "R = 1-P(Z< 2.61707549757358)= 1 - 0.99556 = 0.00444\n",
    "Por lo tanto **la probabilidad de que para Enero de 2022 el 70% de la población ya este vacunada es de $R=0.00444=0.4\\%$.**\n",
    "\n",
    "\n",
    "¡Una probabilidad muy baja!"
   ]
  },
  {
   "cell_type": "markdown",
   "metadata": {
    "id": "5iwBCnz6zBYI"
   },
   "source": [
    "Una visualización sencilla de la acumulación de personas vacunadas en los proximos 334 días"
   ]
  },
  {
   "cell_type": "code",
   "execution_count": null,
   "metadata": {
    "colab": {
     "base_uri": "https://localhost:8080/",
     "height": 573
    },
    "id": "BGdIxR6YtOz6",
    "outputId": "64604c75-0fb4-4e04-d936-acaebad3918f"
   },
   "outputs": [
    {
     "data": {
      "image/png": "[encoded data removed]",
      "text/plain": [
       "<Figure size 432x288 with 1 Axes>"
      ]
     },
     "metadata": {
      "needs_background": "light",
      "tags": []
     },
     "output_type": "display_data"
    },
    {
     "data": {
      "image/png": "[encoded data removed]",
      "text/plain": [
       "<Figure size 432x288 with 1 Axes>"
      ]
     },
     "metadata": {
      "needs_background": "light",
      "tags": []
     },
     "output_type": "display_data"
    }
   ],
   "source": [
    "import matplotlib.pyplot as plt\n",
    "import numpy as np\n",
    "\n",
    "def grafica_dosis_diarias(N):\n",
    "    x = np.arange(N)\n",
    "    y = np.zeros_like(x)\n",
    "    for i in range(N):\n",
    "        y[i] = np.random.uniform(25000,100000)\n",
    "    plt.plot(x,y, \"-o\", color=\"b\")\n",
    "    plt.title(\"Personas vacunadas por día\")\n",
    "    plt.xlabel(\"# de día\")\n",
    "    plt.ylabel(\"cantidad de vacunados\")\n",
    "    plt.show()\n",
    "    \n",
    "def grafica_acumulada(N):\n",
    "    x = np.arange(N)\n",
    "    y = np.zeros_like(x)\n",
    "    y[0]=np.random.uniform(25000,100000)\n",
    "    for i in range(1, N):\n",
    "        y[i] = y[i-1]+np.random.uniform(25000,100000)\n",
    "    plt.plot(x,y, \"-o\", color=\"r\")\n",
    "    plt.title(\"Acumulación de personas vacunadas\")\n",
    "    plt.xlabel(\"# de día\")\n",
    "    plt.ylabel(\"cantidad de vacunados\")\n",
    "    plt.yscale(\"log\")\n",
    "    plt.show()\n",
    "\n",
    "\n",
    "\n",
    "grafica_dosis_diarias(334)\n",
    "grafica_acumulada(334)\n",
    "\n"
   ]
  },
  {
   "cell_type": "markdown",
   "metadata": {
    "id": "1bIMraZ118Fe"
   },
   "source": [
    "# Conclusiones\n",
    "\n",
    "## Conclusiones del Problema\n",
    "\n",
    "Es importante hacer enfásis que el problema tiene muchas suposiciones como el hecho de que se pueden vacunar minimo 25,000 personas y máximo 100,000, pero esto en la realidad no es cierto pues ha habido días en los que se vacunan a menos de 5,000 personas por la escases de vacunas que hay. \n",
    "\n",
    "<center>\n",
    "\n",
    "<img src=\"https://raw.githubusercontent.com/noeam/Simulacion_Montecarlo/main/Imagenes/calendario.png?token=GHSAT0AAAAAABV5RK72WSS4TNII4UTBEU2IYVURXCA\" width=\"800\">\n",
    "\n",
    "</center>\n",
    "\n",
    "\n",
    "Según lo expuesto por el gobierno, se espera vacunar a más de 100,000 personas diarias por medio de miles de brigadas de vacunación en cuanto lleguen esas vacunas en cantidades más grandes a las que han llegado en estos primeros 31 días, justo como se puede ve en la imagen anterior. \n",
    "\n",
    "El problema es realmente complejo porque hacen falta muchos datos para dar una mejor estimación y desafortunadamente algunos de los datos obtenidos son incongruentes por la misma fuente (el gobierno), por ejemplo, en la imagen muestran que deberían haber llegado poco más de 2,000,000 millones de dosis en Enero, pero en los reportes del [31 de Enero](https://www.gob.mx/salud/prensa/version-estenografica-conferencia-de-prensa-informe-diario-sobre-coronavirus-covid-19-en-mexico-262705?idiom=es) se informa que se lleva un total de 673,327 dosis. Y también existe un problema de accesibilidad a este tipo de datos, pero eso es otra historia.\n",
    "\n",
    "Sin embargo, creo que la simplificación que he hecho ha cumplido su propósito para mostrar la utilidad y funcionamiento del Método de Montecarlo.\n",
    "\n",
    "## Conclusiones Generales\n",
    "\n",
    "Aunque el problema es muchísimo más complejo de lo que resolvimos aquí lo importante fue el razonamiento y la aplicación del Teorema del Limite Central y el Método de Montecarlo para estimar probabilidades. Espero que este ejemplo sirva como un pequeño repaso para los que ya saben y un ejemplo entendible para los que recién se adentran en estos temas.\n",
    "\n",
    "Este trabajo ha servido mucho para asentar conocimientos que se me han presentado este semestre y que considero son fundamentales para la modelación matemática."
   ]
  },
  {
   "cell_type": "markdown",
   "metadata": {
    "id": "U8siulf8JMkS"
   },
   "source": [
    "# Referencias\n",
    "\n",
    "\n",
    "1.   [IBM](https://www.ibm.com/cloud/learn/monte-carlo-simulation)\n",
    "2.   [Our World In Data](https://ourworldindata.org/covid-vaccinations)\n",
    "\n",
    "3. [Política Nacional de Vacunación](https://coronavirus.gob.mx/wp-content/uploads/2021/01/PolVx_COVID_-11Ene2021.pdf)\n",
    "\n",
    "4. [INEGI](https://www.inegi.org.mx/temas/estructura/)\n",
    "\n",
    "5. W. Cheney, D. Kincaid, Métodos Numéricos y Computacion, Sexta Edición\n"
   ]
  }
 ],
 "metadata": {
  "colab": {
   "authorship_tag": "ABX9TyNJrNivd+wqfbeL9evooNki",
   "include_colab_link": true,
   "name": "Montecarlo_Numerico2021-1.ipynb",
   "provenance": [],
   "toc_visible": true
  },
  "kernelspec": {
   "display_name": "Python 3 (ipykernel)",
   "language": "python",
   "name": "python3"
  },
  "language_info": {
   "codemirror_mode": {
    "name": "ipython",
    "version": 3
   },
   "file_extension": ".py",
   "mimetype": "text/x-python",
   "name": "python",
   "nbconvert_exporter": "python",
   "pygments_lexer": "ipython3",
   "version": "3.9.7"
  }
 },
 "nbformat": 4,
 "nbformat_minor": 1
}
